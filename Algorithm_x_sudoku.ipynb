{
  "nbformat": 4,
  "nbformat_minor": 0,
  "metadata": {
    "colab": {
      "name": "Algorithm x-sudoku",
      "provenance": [],
      "authorship_tag": "ABX9TyNwTqmmCYBk0UtHlcBJJA6l",
      "include_colab_link": true
    },
    "kernelspec": {
      "name": "python3",
      "display_name": "Python 3"
    }
  },
  "cells": [
    {
      "cell_type": "markdown",
      "metadata": {
        "id": "view-in-github",
        "colab_type": "text"
      },
      "source": [
        "<a href=\"https://colab.research.google.com/github/BLOSSOM1994/DLX-Solving-Sudoku/blob/master/Algorithm_x_sudoku.ipynb\" target=\"_parent\"><img src=\"https://colab.research.google.com/assets/colab-badge.svg\" alt=\"Open In Colab\"/></a>"
      ]
    },
    {
      "cell_type": "code",
      "metadata": {
        "id": "9fuWovPAPwAz",
        "colab_type": "code",
        "colab": {}
      },
      "source": [
        "#fatemehjokar-1399\n",
        "from itertools import product"
      ],
      "execution_count": 8,
      "outputs": []
    },
    {
      "cell_type": "code",
      "metadata": {
        "id": "aWJcjFzlQX5I",
        "colab_type": "code",
        "colab": {}
      },
      "source": [
        "def solve_sudoku(size, grid):\n",
        "    \"\"\" An efficient Sudoku solver using Algorithm X.\n",
        "    >>> grid = [\n",
        "    ...     [5, 3, 0, 0, 7, 0, 0, 0, 0],\n",
        "    ...     [6, 0, 0, 1, 9, 5, 0, 0, 0],\n",
        "    ...     [0, 9, 8, 0, 0, 0, 0, 6, 0],\n",
        "    ...     [8, 0, 0, 0, 6, 0, 0, 0, 3],\n",
        "    ...     [4, 0, 0, 8, 0, 3, 0, 0, 1],\n",
        "    ...     [7, 0, 0, 0, 2, 0, 0, 0, 6],\n",
        "    ...     [0, 6, 0, 0, 0, 0, 2, 8, 0],\n",
        "    ...     [0, 0, 0, 4, 1, 9, 0, 0, 5],\n",
        "    ...     [0, 0, 0, 0, 8, 0, 0, 7, 9]]\n",
        "    >>> for solution in solve_sudoku((3, 3), grid):\n",
        "    ...     print(*solution, sep='\\\\n')\n",
        "    [5, 3, 4, 6, 7, 8, 9, 1, 2]\n",
        "    [6, 7, 2, 1, 9, 5, 3, 4, 8]\n",
        "    [1, 9, 8, 3, 4, 2, 5, 6, 7]\n",
        "    [8, 5, 9, 7, 6, 1, 4, 2, 3]\n",
        "    [4, 2, 6, 8, 5, 3, 7, 9, 1]\n",
        "    [7, 1, 3, 9, 2, 4, 8, 5, 6]\n",
        "    [9, 6, 1, 5, 3, 7, 2, 8, 4]\n",
        "    [2, 8, 7, 4, 1, 9, 6, 3, 5]\n",
        "    [3, 4, 5, 2, 8, 6, 1, 7, 9]\n",
        "    \"\"\"\n",
        "    R, C = size\n",
        "    N = R * C\n",
        "    X = ([(\"rc\", rc) for rc in product(range(N), range(N))] +\n",
        "         [(\"rn\", rn) for rn in product(range(N), range(1, N + 1))] +\n",
        "         [(\"cn\", cn) for cn in product(range(N), range(1, N + 1))] +\n",
        "         [(\"bn\", bn) for bn in product(range(N), range(1, N + 1))])\n",
        "    Y = dict()\n",
        "\n",
        "    for r, c, n in product(range(N), range(N), range(1, N + 1)):\n",
        "        b = (r // R) * R + (c // C)  # Box number\n",
        "        Y[(r, c, n)] = [\n",
        "            (\"rc\", (r, c)),\n",
        "            (\"rn\", (r, n)),\n",
        "            (\"cn\", (c, n)),\n",
        "            (\"bn\", (b, n))]\n",
        "    #  print(Y)\n",
        "    X, Y = exact_cover(X, Y)\n",
        "    #  print(X)\n",
        "\n",
        "    for i, row in enumerate(grid):\n",
        "        for j, n in enumerate(row):\n",
        "            if n:\n",
        "                select(X, Y, (i, j, n))\n",
        "\n",
        "    for solution in solve(X, Y, []):\n",
        "        for (r, c, n) in solution:\n",
        "            grid[r][c] = n\n",
        "        yield grid"
      ],
      "execution_count": 9,
      "outputs": []
    },
    {
      "cell_type": "code",
      "metadata": {
        "id": "DZTx9hfQQQdp",
        "colab_type": "code",
        "colab": {}
      },
      "source": [
        "def exact_cover(X, Y):\n",
        "    X = {j: set() for j in X}\n",
        "\n",
        "    for i, row in Y.items():\n",
        "        for j in row:\n",
        "            X[j].add(i)\n",
        "\n",
        "    return X, Y"
      ],
      "execution_count": 10,
      "outputs": []
    },
    {
      "cell_type": "code",
      "metadata": {
        "id": "1X01JZcUQOrV",
        "colab_type": "code",
        "colab": {}
      },
      "source": [
        "def solve(X, Y, solution):\n",
        "    if not X:\n",
        "        yield list(solution)\n",
        "    else:\n",
        "        c = min(X, key=lambda c: len(X[c]))\n",
        "\n",
        "        for r in list(X[c]):\n",
        "            solution.append(r)\n",
        "            cols = select(X, Y, r)\n",
        "\n",
        "            for s in solve(X, Y, solution):\n",
        "                yield s\n",
        "            deselect(X, Y, r, cols)\n",
        "            solution.pop()\n"
      ],
      "execution_count": 11,
      "outputs": []
    },
    {
      "cell_type": "code",
      "metadata": {
        "id": "bYjN-pOqQJfS",
        "colab_type": "code",
        "colab": {}
      },
      "source": [
        "def select(X, Y, r):\n",
        "    cols = []\n",
        "\n",
        "    for j in Y[r]:\n",
        "        for i in X[j]:\n",
        "            for k in Y[i]:\n",
        "                if k != j:\n",
        "                    X[k].remove(i)\n",
        "        cols.append(X.pop(j))\n",
        "\n",
        "    return cols\n"
      ],
      "execution_count": 12,
      "outputs": []
    },
    {
      "cell_type": "code",
      "metadata": {
        "id": "_MHK5QzPQG_q",
        "colab_type": "code",
        "colab": {}
      },
      "source": [
        "def deselect(X, Y, r, cols):\n",
        "    for j in reversed(Y[r]):\n",
        "        X[j] = cols.pop()\n",
        "        for i in X[j]:\n",
        "            for k in Y[i]:\n",
        "                if k != j:\n",
        "                    X[k].add(i)"
      ],
      "execution_count": 13,
      "outputs": []
    },
    {
      "cell_type": "markdown",
      "metadata": {
        "id": "xzOTW97gwaVj",
        "colab_type": "text"
      },
      "source": [
        ""
      ]
    },
    {
      "cell_type": "code",
      "metadata": {
        "id": "nD0ahmh5QBFm",
        "colab_type": "code",
        "colab": {
          "base_uri": "https://localhost:8080/",
          "height": 203
        },
        "outputId": "b726d645-60da-4935-9214-36385c9e7fd5"
      },
      "source": [
        "\n",
        "grid=[[8,0,0,5,2,7,0,0,0],\n",
        "[0,0,0,0,0,0,0,0,0],\n",
        "[7,6,3,0,0,9,0,0,0],\n",
        "[4,0,5,0,6,0,0,7,0],\n",
        "[0,7,1,0,0,0,9,8,0],\n",
        "[0,8,0,0,7,0,3,0,4],\n",
        "[0,0,0,1,0,0,5,2,9],\n",
        "[0,0,0,0,0,0,0,0,0],\n",
        "[0,0,0,3,9,2,0,0,1]]\n",
        "\n",
        "for solution in solve_sudoku((3, 3), grid):\n",
        "        print(\"-\" * 42)\n",
        "        print(*solution, sep='\\n')"
      ],
      "execution_count": 14,
      "outputs": [
        {
          "output_type": "stream",
          "text": [
            "------------------------------------------\n",
            "[8, 1, 9, 5, 2, 7, 4, 6, 3]\n",
            "[5, 2, 4, 6, 1, 3, 8, 9, 7]\n",
            "[7, 6, 3, 8, 4, 9, 2, 1, 5]\n",
            "[4, 3, 5, 9, 6, 8, 1, 7, 2]\n",
            "[2, 7, 1, 4, 3, 5, 9, 8, 6]\n",
            "[9, 8, 6, 2, 7, 1, 3, 5, 4]\n",
            "[3, 4, 7, 1, 8, 6, 5, 2, 9]\n",
            "[1, 9, 2, 7, 5, 4, 6, 3, 8]\n",
            "[6, 5, 8, 3, 9, 2, 7, 4, 1]\n"
          ],
          "name": "stdout"
        }
      ]
    },
    {
      "cell_type": "markdown",
      "metadata": {
        "id": "B6VZVuAqvI4b",
        "colab_type": "text"
      },
      "source": [
        "X = {1, 2, 3, 4, 5, 6, 7}\n",
        "\n",
        "Y = {\n",
        "\n",
        "    'A': [1, 4, 7],\n",
        "    'B': [1, 4],\n",
        "    'C': [4, 5, 7],\n",
        "    'D': [3, 5, 6],\n",
        "    'E': [2, 3, 6, 7],\n",
        "    'F': [2, 7]\n",
        "    }\n",
        "-------------------------------\n",
        "X = {\n",
        "\n",
        "    1: {'A', 'B'},\n",
        "    2: {'E', 'F'},\n",
        "    3: {'D', 'E'},\n",
        "    4: {'A', 'B', 'C'},\n",
        "    5: {'C', 'D'},\n",
        "    6: {'D', 'E'},\n",
        "    7: {'A', 'C', 'E', 'F'}}\n",
        "-------------------------------------------------\n",
        "\n",
        "برای حل مشکل:\n",
        "```\n",
        "X = {j: set(filter(lambda i: j in Y[i], Y)) for j in X}\n",
        "```\n",
        "But this is slow. If the size of X is m and the size of Y is n, then the number of iterations will be m*n. In the case of a Sudoku grid of size N, this of the order of N^5. We can do better.\n",
        "\n",
        "\n",
        "```\n",
        "X = {j: set() for j in X}\n",
        "for i in Y:\n",
        "    for j in Y[i]:\n",
        "        X[j].add(i)\n",
        "```\n",
        "\n",
        "This still has O(m*n) complexity, but only in degenerate cases. \n",
        "On average it will perform much better, because it won't iterate over all the empty cells. \n",
        "In Sudoku for example, there are exactly 4 entries in each row of the matrix,\n",
        "regardless of size, so this will have complexity N^3.\n",
        "\n",
        "\n",
        "\n",
        "\n",
        "\n",
        "\n",
        "\n",
        "\n",
        "\n"
      ]
    }
  ]
}