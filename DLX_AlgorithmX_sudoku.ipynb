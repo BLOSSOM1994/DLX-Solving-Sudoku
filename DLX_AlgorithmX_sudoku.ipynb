{
  "nbformat": 4,
  "nbformat_minor": 0,
  "metadata": {
    "colab": {
      "name": "DLX-AlgorithmX-sudoku.ipynb",
      "provenance": [],
      "authorship_tag": "ABX9TyONjC1s3iwEu7UjYyLOolpe",
      "include_colab_link": true
    },
    "kernelspec": {
      "name": "python3",
      "display_name": "Python 3"
    }
  },
  "cells": [
    {
      "cell_type": "markdown",
      "metadata": {
        "id": "view-in-github",
        "colab_type": "text"
      },
      "source": [
        "<a href=\"https://colab.research.google.com/github/BLOSSOM1994/DLX-Solving-Sudoku/blob/master/DLX_AlgorithmX_sudoku.ipynb\" target=\"_parent\"><img src=\"https://colab.research.google.com/assets/colab-badge.svg\" alt=\"Open In Colab\"/></a>"
      ]
    },
    {
      "cell_type": "code",
      "metadata": {
        "id": "lGOAmnmNfpvY",
        "colab_type": "code",
        "colab": {
          "base_uri": "https://localhost:8080/",
          "height": 36
        },
        "outputId": "27663abb-62b4-4011-d2c2-950e04336e05"
      },
      "source": [
        "!git clone \"https://github.com/hbldh/dlxsudoku\""
      ],
      "execution_count": 12,
      "outputs": [
        {
          "output_type": "stream",
          "text": [
            "fatal: destination path 'dlxsudoku' already exists and is not an empty directory.\n"
          ],
          "name": "stdout"
        }
      ]
    },
    {
      "cell_type": "code",
      "metadata": {
        "id": "aXVWgdCzfG5b",
        "colab_type": "code",
        "colab": {
          "base_uri": "https://localhost:8080/",
          "height": 36
        },
        "outputId": "f37292a6-e73f-41a4-a830-a6c0a3847d6e"
      },
      "source": [
        "!pip install dlxsudoku"
      ],
      "execution_count": 13,
      "outputs": [
        {
          "output_type": "stream",
          "text": [
            "Requirement already satisfied: dlxsudoku in /usr/local/lib/python3.6/dist-packages (0.10.3)\n"
          ],
          "name": "stdout"
        }
      ]
    },
    {
      "cell_type": "code",
      "metadata": {
        "id": "peA34fWlfTJ-",
        "colab_type": "code",
        "colab": {
          "base_uri": "https://localhost:8080/",
          "height": 260
        },
        "outputId": "e2bbcf21-9998-40b2-e521-38ca0a24e9f5"
      },
      "source": [
        "from dlxsudoku import Sudoku\n",
        "s = Sudoku.load_file('/content/dlxsudoku/tests/hard.sud')\n",
        "print(s)\n"
      ],
      "execution_count": 14,
      "outputs": [
        {
          "output_type": "stream",
          "text": [
            "# Hard 1\n",
            "***|*5*|*7*\n",
            "*5*|*1*|4*2\n",
            "871|***|***\n",
            "---+---+---\n",
            "*6*|42*|**5\n",
            "**4|***|6**\n",
            "2**|*76|*1*\n",
            "---+---+---\n",
            "***|***|851\n",
            "5*7|*4*|*3*\n",
            "*1*|*9*|***\n",
            "\n"
          ],
          "name": "stdout"
        }
      ]
    },
    {
      "cell_type": "markdown",
      "metadata": {
        "id": "wGkOTyxGg1c5",
        "colab_type": "text"
      },
      "source": [
        "در 53 تکرار حل میشه"
      ]
    },
    {
      "cell_type": "code",
      "metadata": {
        "id": "LftwKYvDg0d4",
        "colab_type": "code",
        "colab": {
          "base_uri": "https://localhost:8080/",
          "height": 1000
        },
        "outputId": "ea1f02de-e780-426a-ce69-7b9a5cbb3db7"
      },
      "source": [
        "t=s.solve(verbose=True, allow_brute_force=True)\n",
        "print(s)"
      ],
      "execution_count": 15,
      "outputs": [
        {
          "output_type": "stream",
          "text": [
            "Sudoku solved in 53 iterations!\n",
            "# Hard 1\n",
            "642|359|178\n",
            "953|817|462\n",
            "871|264|593\n",
            "---+---+---\n",
            "169|423|785\n",
            "734|581|629\n",
            "285|976|314\n",
            "---+---+---\n",
            "496|732|851\n",
            "527|148|936\n",
            "318|695|247\n",
            "\n",
            "[1,7] = 1, HIDDEN-ROW\n",
            "[3,6] = 4, HIDDEN-ROW\n",
            "[3,4] = 2, HIDDEN-ROW\n",
            "[3,7] = 5, HIDDEN-ROW\n",
            "[5,5] = 8, HIDDEN-COL\n",
            "[5,8] = 2, HIDDEN-ROW\n",
            "[6,3] = 5, HIDDEN-COL\n",
            "[6,9] = 4, HIDDEN-ROW\n",
            "[1,9] = 8, HIDDEN-COL\n",
            "[3,9] = 3, HIDDEN-BOX\n",
            "[3,5] = 6, NAKED\n",
            "[3,8] = 9, NAKED\n",
            "[7,5] = 3, NAKED\n",
            "[2,8] = 6, NAKED\n",
            "[4,8] = 8, NAKED\n",
            "[9,8] = 4, NAKED\n",
            "[6,2] = 8, HIDDEN-ROW\n",
            "[9,3] = 8, HIDDEN-COL\n",
            "[9,1] = 3, HIDDEN-ROW\n",
            "[2,1] = 9, NAKED\n",
            "[2,3] = 3, NAKED\n",
            "[4,3] = 9, NAKED\n",
            "[5,2] = 3, NAKED\n",
            "[7,2] = 9, HIDDEN-ROW\n",
            "[8,2] = 2, NAKED\n",
            "[1,2] = 4, NAKED\n",
            "[7,3] = 6, NAKED\n",
            "[8,7] = 9, NAKED\n",
            "[1,1] = 6, NAKED\n",
            "[1,3] = 2, NAKED\n",
            "[6,7] = 3, NAKED\n",
            "[7,1] = 4, NAKED\n",
            "[7,4] = 7, NAKED\n",
            "[8,9] = 6, NAKED\n",
            "[2,4] = 8, NAKED\n",
            "[4,7] = 7, NAKED\n",
            "[6,4] = 9, NAKED\n",
            "[7,6] = 2, NAKED\n",
            "[9,9] = 7, NAKED\n",
            "[1,4] = 3, NAKED\n",
            "[2,6] = 7, NAKED\n",
            "[4,1] = 1, NAKED\n",
            "[5,9] = 9, NAKED\n",
            "[8,4] = 1, NAKED\n",
            "[9,6] = 5, NAKED\n",
            "[9,7] = 2, NAKED\n",
            "[1,6] = 9, NAKED\n",
            "[4,6] = 3, NAKED\n",
            "[5,1] = 7, NAKED\n",
            "[5,4] = 5, NAKED\n",
            "[5,6] = 1, NAKED\n",
            "[8,6] = 8, NAKED\n",
            "[9,4] = 6, NAKED\n",
            "# Hard 1\n",
            "642|359|178\n",
            "953|817|462\n",
            "871|264|593\n",
            "---+---+---\n",
            "169|423|785\n",
            "734|581|629\n",
            "285|976|314\n",
            "---+---+---\n",
            "496|732|851\n",
            "527|148|936\n",
            "318|695|247\n",
            "\n"
          ],
          "name": "stdout"
        }
      ]
    }
  ]
}